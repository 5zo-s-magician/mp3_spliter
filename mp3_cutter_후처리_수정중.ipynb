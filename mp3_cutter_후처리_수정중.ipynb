{
  "nbformat": 4,
  "nbformat_minor": 0,
  "metadata": {
    "colab": {
      "name": "mp3_cutter_후처리_수정중.ipynb",
      "provenance": [],
      "collapsed_sections": [],
      "include_colab_link": true
    },
    "kernelspec": {
      "name": "python3",
      "display_name": "Python 3"
    },
    "language_info": {
      "name": "python"
    }
  },
  "cells": [
    {
      "cell_type": "markdown",
      "metadata": {
        "id": "view-in-github",
        "colab_type": "text"
      },
      "source": [
        "<a href=\"https://colab.research.google.com/github/5zo-s-magician/mp3_spliter/blob/main/mp3_cutter_%ED%9B%84%EC%B2%98%EB%A6%AC_%EC%88%98%EC%A0%95%EC%A4%91.ipynb\" target=\"_parent\"><img src=\"https://colab.research.google.com/assets/colab-badge.svg\" alt=\"Open In Colab\"/></a>"
      ]
    },
    {
      "cell_type": "code",
      "metadata": {
        "colab": {
          "base_uri": "https://localhost:8080/"
        },
        "id": "fiYUhLvN8HJS",
        "outputId": "b2ad4222-7c96-4953-a685-6d24a8f9b467"
      },
      "source": [
        "!pip install pydub\n",
        "!apt install ffmpeg"
      ],
      "execution_count": null,
      "outputs": [
        {
          "output_type": "stream",
          "name": "stdout",
          "text": [
            "Requirement already satisfied: pydub in /usr/local/lib/python3.7/dist-packages (0.25.1)\n",
            "Collecting ffmpeg\n",
            "  Downloading ffmpeg-1.4.tar.gz (5.1 kB)\n",
            "Building wheels for collected packages: ffmpeg\n",
            "  Building wheel for ffmpeg (setup.py) ... \u001b[?25l\u001b[?25hdone\n",
            "  Created wheel for ffmpeg: filename=ffmpeg-1.4-py3-none-any.whl size=6083 sha256=c4094818bc291c1ec714678cdb06ebdcca7c293f181bce09adfe9de20d1db592\n",
            "  Stored in directory: /root/.cache/pip/wheels/64/80/6e/caa3e16deb0267c3cbfd36862058a724144e19fdb9eb03af0f\n",
            "Successfully built ffmpeg\n",
            "Installing collected packages: ffmpeg\n",
            "Successfully installed ffmpeg-1.4\n"
          ]
        }
      ]
    },
    {
      "cell_type": "code",
      "metadata": {
        "id": "ZHD97SMrbclu",
        "colab": {
          "base_uri": "https://localhost:8080/"
        },
        "outputId": "96a02ee1-fa8b-4230-99d8-17cd35da6373"
      },
      "source": [
        "\n",
        "from pydub import AudioSegment\n",
        "\n",
        "\n",
        "files_path = '/content/drive/MyDrive/capd/'\n",
        "file_name = 'badboy'\n",
        "\n",
        "##가사파싱에서 결과물 초.** 자리까지 전달\n",
        "\n",
        "\n",
        "\n",
        "startMin = 1\n",
        "startSec = 30\n",
        "endMin = 1\n",
        "endSec = 45\n",
        "\n",
        "# Time to miliseconds\n",
        "startTime = startMin*60*1000+startSec*1000\n",
        "endTime = endMin*60*1000+endSec*1000\n",
        "\n",
        "# Opening file and extracting segment\n",
        "song = AudioSegment.from_file( files_path+file_name+'.mp3' )\n",
        "extract = song[startTime:endTime]\n",
        "\n",
        "# Saving\n",
        "extract.export( file_name+'-extract.mp3', format=\"mp3\")"
      ],
      "execution_count": null,
      "outputs": [
        {
          "output_type": "execute_result",
          "data": {
            "text/plain": [
              "<_io.BufferedRandom name='badboy-extract.mp3'>"
            ]
          },
          "metadata": {},
          "execution_count": 12
        }
      ]
    },
    {
      "cell_type": "code",
      "metadata": {
        "colab": {
          "base_uri": "https://localhost:8080/"
        },
        "id": "S9R6H6Wa_1rT",
        "outputId": "7b600c3a-134e-4dfa-d6c5-eb27ba5600ce"
      },
      "source": [
        "# MR+VOCAL overlay\n",
        "\n",
        "\n",
        "#sound1 = AudioSegment.from_file(\"/path/to/my_sound.wav\")\n",
        "#sound2 = AudioSegment.from_file(\"/path/to/another_sound.wav\")\n",
        "#files_path = '/content/drive/MyDrive/capd/'\n",
        "#file_name = 'badboy' -> 잘라낸 이름 곡명-extract-숫자.mp3\n",
        "#mr제거 후 생기는 파일  output/잘라낸 이름 곡명-extract-숫자/vocals.wav 랑 accompaniment.wav\n",
        "#이걸 합쳐서 곡명-extract-숫자-new.mp3로 만든다\n",
        "\n",
        "\n",
        "for i in timetrack:\n",
        "  a = 0\n",
        "  file_path_remmr = '/content/output/'\n",
        "  file_name_remmr = file_name+'-extract-'+a\n",
        "  if a == len(timetrack):\n",
        "    break\n",
        "\n",
        "  elif a % 2 =1:\n",
        "     vocals=AudioSegment.from_file(file_path_remmr+file_name_remmr+'vocals.wav')\n",
        "    mr=AudioSegment.from_file(file_path_remmr+file_name_remmr+'accompaniment.wav')\n",
        "    combined = vocals.overlay(mr)\n",
        "    combined.export(file_name_remmr+'-new.mp3',format=\"mp3\")\n",
        "    a++\n",
        "  elif a % 2 = 0:\n",
        "    a++\n",
        "\n",
        "clips = []\n",
        "for i in timetrack:\n",
        "  a = 0\n",
        "  if a == len(timetrack):\n",
        "    break\n",
        "  elif a % 2 = 0:\n",
        "    clip = AudioSegment.from_file(file_name_remmr+'.mp3')\n",
        "      clips.append(clip)\n",
        "  elif a % 2 = 1:\n",
        "    clip = AudioSegement.from_file(file_name_remmr+'-new.mp3')\n",
        "      clips.append(clip)\n",
        "  \n",
        "final_clip = clips[0]\n",
        "for i in timetrack:\n",
        "  final_clip = final_clip + clips[i]\n",
        "\n",
        "final_clip,export(\"final.mp3\", format=\"mp3\")\n",
        "\n",
        "#vocals = AudioSegment.from_file(\"/content/drive/MyDrive/capd/badboy.wav\")\n",
        "#mr = AudioSegment.from_file(\"/content/drive/MyDrive/capd/blue.wav\")\n",
        "#combined = vocals.overlay(mr)\n",
        "#combined.export(file_name+'-extract-'+a+'-new.mp3', format=\"mp3\")\n"
      ],
      "execution_count": null,
      "outputs": [
        {
          "output_type": "execute_result",
          "data": {
            "text/plain": [
              "<_io.BufferedRandom name='combined.mp3'>"
            ]
          },
          "metadata": {},
          "execution_count": 13
        }
      ]
    },
    {
      "cell_type": "code",
      "metadata": {
        "colab": {
          "base_uri": "https://localhost:8080/"
        },
        "id": "-1AuGsOGJ7xh",
        "outputId": "5d9dfc0c-a10d-4185-8a55-be03b8808377"
      },
      "source": [
        "#final_clip = sound1+sound2\n",
        "#final_clip.export(\"final.mp3\",format=\"mp3\")\n",
        "\n",
        "\n",
        "#final\n",
        "clips = []\n",
        "for i in timetrack:\n",
        "  clip = AudioSegment.from_file(file_path)\n",
        "        clips.append(clip)\n",
        "\n",
        "final_clip = clips[0]\n",
        "for i in timetrack:\n",
        "  final_clip = final_clip + clips[i]\n",
        "\n",
        "\n",
        "final_clip.export(\"final.mp3\", format=\"mp3\")"
      ],
      "execution_count": null,
      "outputs": [
        {
          "output_type": "execute_result",
          "data": {
            "text/plain": [
              "<_io.BufferedRandom name='final.mp3'>"
            ]
          },
          "metadata": {},
          "execution_count": 14
        }
      ]
    }
  ]
}